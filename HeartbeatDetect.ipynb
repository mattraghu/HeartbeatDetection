{
 "cells": [
  {
   "cell_type": "code",
   "execution_count": 1,
   "metadata": {},
   "outputs": [
    {
     "ename": "FileNotFoundError",
     "evalue": "[Errno 2] No such file or directory: 'path/to/your/wav/file.wav'",
     "output_type": "error",
     "traceback": [
      "\u001b[1;31m---------------------------------------------------------------------------\u001b[0m",
      "\u001b[1;31mFileNotFoundError\u001b[0m                         Traceback (most recent call last)",
      "Cell \u001b[1;32mIn[1], line 9\u001b[0m\n\u001b[0;32m      6\u001b[0m file_path \u001b[39m=\u001b[39m \u001b[39m'\u001b[39m\u001b[39mpath/to/your/wav/file.wav\u001b[39m\u001b[39m'\u001b[39m\n\u001b[0;32m      8\u001b[0m \u001b[39m# Open the WAV file\u001b[39;00m\n\u001b[1;32m----> 9\u001b[0m wav_file \u001b[39m=\u001b[39m wave\u001b[39m.\u001b[39;49mopen(file_path, \u001b[39m'\u001b[39;49m\u001b[39mrb\u001b[39;49m\u001b[39m'\u001b[39;49m)\n\u001b[0;32m     11\u001b[0m \u001b[39m# Read the audio frames and convert to a numpy array\u001b[39;00m\n\u001b[0;32m     12\u001b[0m audio_frames \u001b[39m=\u001b[39m wav_file\u001b[39m.\u001b[39mreadframes(\u001b[39m-\u001b[39m\u001b[39m1\u001b[39m)\n",
      "File \u001b[1;32mc:\\Python311\\Lib\\wave.py:630\u001b[0m, in \u001b[0;36mopen\u001b[1;34m(f, mode)\u001b[0m\n\u001b[0;32m    628\u001b[0m         mode \u001b[39m=\u001b[39m \u001b[39m'\u001b[39m\u001b[39mrb\u001b[39m\u001b[39m'\u001b[39m\n\u001b[0;32m    629\u001b[0m \u001b[39mif\u001b[39;00m mode \u001b[39min\u001b[39;00m (\u001b[39m'\u001b[39m\u001b[39mr\u001b[39m\u001b[39m'\u001b[39m, \u001b[39m'\u001b[39m\u001b[39mrb\u001b[39m\u001b[39m'\u001b[39m):\n\u001b[1;32m--> 630\u001b[0m     \u001b[39mreturn\u001b[39;00m Wave_read(f)\n\u001b[0;32m    631\u001b[0m \u001b[39melif\u001b[39;00m mode \u001b[39min\u001b[39;00m (\u001b[39m'\u001b[39m\u001b[39mw\u001b[39m\u001b[39m'\u001b[39m, \u001b[39m'\u001b[39m\u001b[39mwb\u001b[39m\u001b[39m'\u001b[39m):\n\u001b[0;32m    632\u001b[0m     \u001b[39mreturn\u001b[39;00m Wave_write(f)\n",
      "File \u001b[1;32mc:\\Python311\\Lib\\wave.py:280\u001b[0m, in \u001b[0;36mWave_read.__init__\u001b[1;34m(self, f)\u001b[0m\n\u001b[0;32m    278\u001b[0m \u001b[39mself\u001b[39m\u001b[39m.\u001b[39m_i_opened_the_file \u001b[39m=\u001b[39m \u001b[39mNone\u001b[39;00m\n\u001b[0;32m    279\u001b[0m \u001b[39mif\u001b[39;00m \u001b[39misinstance\u001b[39m(f, \u001b[39mstr\u001b[39m):\n\u001b[1;32m--> 280\u001b[0m     f \u001b[39m=\u001b[39m builtins\u001b[39m.\u001b[39;49mopen(f, \u001b[39m'\u001b[39;49m\u001b[39mrb\u001b[39;49m\u001b[39m'\u001b[39;49m)\n\u001b[0;32m    281\u001b[0m     \u001b[39mself\u001b[39m\u001b[39m.\u001b[39m_i_opened_the_file \u001b[39m=\u001b[39m f\n\u001b[0;32m    282\u001b[0m \u001b[39m# else, assume it is an open file object already\u001b[39;00m\n",
      "\u001b[1;31mFileNotFoundError\u001b[0m: [Errno 2] No such file or directory: 'path/to/your/wav/file.wav'"
     ]
    }
   ],
   "source": [
    "import wave\n",
    "import numpy as np\n",
    "import plotly.graph_objects as go\n",
    "\n",
    "# Specify the path to your WAV file\n",
    "file_path = 'C:\\Users\\mattr\\OneDrive\\Documents\\Projects\\HeartbeatDetection\\Data\\set_a\\normal__201102081321.wav'\n",
    "\n",
    "# Open the WAV file\n",
    "wav_file = wave.open(file_path, 'rb')\n",
    "\n",
    "# Read the audio frames and convert to a numpy array\n",
    "audio_frames = wav_file.readframes(-1)\n",
    "audio_frames = np.frombuffer(audio_frames, dtype=np.int16)\n",
    "\n",
    "# Get the sample rate of the audio file\n",
    "sample_rate = wav_file.getframerate()\n",
    "\n",
    "# Calculate the FFT (Fast Fourier Transform) of the audio data\n",
    "fft_data = np.fft.fft(audio_frames)\n",
    "\n",
    "# Get the frequency bins corresponding to the FFT data\n",
    "frequency_bins = np.fft.fftfreq(len(fft_data), d=1/sample_rate)\n",
    "\n",
    "# Plot the audio spectrum using Plotly\n",
    "fig = go.Figure(data=go.Scatter(x=frequency_bins, y=np.abs(fft_data)))\n",
    "fig.update_layout(\n",
    "    title=\"Audio Spectrum\",\n",
    "    xaxis_title=\"Frequency (Hz)\",\n",
    "    yaxis_title=\"Magnitude\",\n",
    ")\n",
    "fig.show()\n",
    "\n",
    "# Close the WAV file\n",
    "wav_file.close()\n"
   ]
  }
 ],
 "metadata": {
  "kernelspec": {
   "display_name": "Python 3",
   "language": "python",
   "name": "python3"
  },
  "language_info": {
   "codemirror_mode": {
    "name": "ipython",
    "version": 3
   },
   "file_extension": ".py",
   "mimetype": "text/x-python",
   "name": "python",
   "nbconvert_exporter": "python",
   "pygments_lexer": "ipython3",
   "version": "3.11.0"
  },
  "orig_nbformat": 4
 },
 "nbformat": 4,
 "nbformat_minor": 2
}
